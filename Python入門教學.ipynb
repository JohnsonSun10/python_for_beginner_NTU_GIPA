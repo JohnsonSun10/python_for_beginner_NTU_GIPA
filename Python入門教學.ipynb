{
  "nbformat": 4,
  "nbformat_minor": 0,
  "metadata": {
    "colab": {
      "provenance": []
    },
    "kernelspec": {
      "name": "python3",
      "display_name": "Python 3"
    },
    "language_info": {
      "name": "python"
    }
  },
  "cells": [
    {
      "cell_type": "markdown",
      "source": [
        "# **基本語法和變量**"
      ],
      "metadata": {
        "id": "qzHZPl5a1LTp"
      }
    },
    {
      "cell_type": "markdown",
      "source": [
        "歡迎使用Python!如果你是第一次寫程式的話，請執行下面這個程式碼吧!"
      ],
      "metadata": {
        "id": "7vm4fLyu3HN4"
      }
    },
    {
      "cell_type": "code",
      "execution_count": null,
      "metadata": {
        "id": "YOS81C6V1BRf"
      },
      "outputs": [],
      "source": [
        "print('Hello World!')"
      ]
    },
    {
      "cell_type": "markdown",
      "source": [
        "### 資料型態"
      ],
      "metadata": {
        "id": "QWr5xJTM1Cur"
      }
    },
    {
      "cell_type": "markdown",
      "source": [
        "Python常用的資料型態基本上就如下表列這幾種:\n",
        "\n",
        "\n",
        "* bool  --> True, False\n",
        "\n",
        "* int --> 42, 19, 112\n",
        "\n",
        "* float --> 3.14, 0.13\n",
        "\n",
        "* str --> ‘Hi’, “Hello”, ‘’’Bye!’’’, “””Bye!”””\n",
        "\n",
        "* list --> [‘a’, ‘b’, ‘c’, ‘d’, ‘a’]\n",
        "\n",
        "* tuple --> (‘a’, ‘b’)\n",
        "\n",
        "* dict --> {‘a’: 1, ‘b’: 2}\n",
        "\n",
        "* set --> {‘a’, ‘b’, ‘c’}\n",
        "\n"
      ],
      "metadata": {
        "id": "kvXoqru41x8g"
      }
    },
    {
      "cell_type": "code",
      "source": [
        "# type() 是一個可以用來檢查資料型別的function。\n",
        "# 所謂function就是丟input進去，會有output跑出來。\n",
        "# \"type\"是這個function的名稱，\n",
        "# \"True\"是這個function的input，而function跑出來的output會列在下方。\n",
        "\n",
        "type(123)\n",
        "type(True)"
      ],
      "metadata": {
        "colab": {
          "base_uri": "https://localhost:8080/"
        },
        "id": "JT6AI0Zz3JyV",
        "outputId": "d6070d03-bad2-44e2-8491-9c0a2517a3a9"
      },
      "execution_count": 5,
      "outputs": [
        {
          "output_type": "execute_result",
          "data": {
            "text/plain": [
              "bool"
            ]
          },
          "metadata": {},
          "execution_count": 5
        }
      ]
    },
    {
      "cell_type": "code",
      "source": [
        "# 在python，雖然可以直接顯示一個function或是variabe,但是只有最後一行才會被顯示，如果想要顯示多行的結果，就要用print包住。\n",
        "\n",
        "print(type(123))\n",
        "print(type('臺大公事所'))\n",
        "print(type(False))\n",
        "print(type(129.3))\n",
        "print(type([1,2,3,'四','five']))\n",
        "print(type({'num':1, 'time':3}))"
      ],
      "metadata": {
        "colab": {
          "base_uri": "https://localhost:8080/"
        },
        "id": "tcA1wfcK1Uix",
        "outputId": "a7b8e10b-5e77-4d7f-d9a3-4297dfea61d4"
      },
      "execution_count": 6,
      "outputs": [
        {
          "output_type": "stream",
          "name": "stdout",
          "text": [
            "<class 'int'>\n",
            "<class 'str'>\n",
            "<class 'bool'>\n",
            "<class 'float'>\n",
            "<class 'list'>\n",
            "<class 'dict'>\n"
          ]
        }
      ]
    },
    {
      "cell_type": "markdown",
      "source": [
        "在python中，所有資料都是「物件(object)」。 (所謂「資料」在python中包含了function, class等等東西。)\n",
        "\n",
        "我們可以把一個物件當作是一個盒子，佔用了倉庫（記憶體）中某些格子的位置。有些盒子比較大，佔用比較多格子，有些盒子比較小，只佔用一些格子。變數(variable) 則是物件的名稱，可以想像是盒子的標籤。標籤貼著盒子，幫助我們利用標籤去找出我們要的資料。"
      ],
      "metadata": {
        "id": "WBiY4qg14LDm"
      }
    },
    {
      "cell_type": "code",
      "source": [
        "ntu_gipa = \"臺大公事所\""
      ],
      "metadata": {
        "id": "sC8o_nQ04YCS"
      },
      "execution_count": 7,
      "outputs": []
    },
    {
      "cell_type": "code",
      "source": [
        "ntu_gipa"
      ],
      "metadata": {
        "colab": {
          "base_uri": "https://localhost:8080/",
          "height": 35
        },
        "id": "T_8UK3q04gun",
        "outputId": "79ee9862-1f32-4718-ea71-0c06103383f8"
      },
      "execution_count": 8,
      "outputs": [
        {
          "output_type": "execute_result",
          "data": {
            "text/plain": [
              "'臺大公事所'"
            ],
            "application/vnd.google.colaboratory.intrinsic+json": {
              "type": "string"
            }
          },
          "metadata": {},
          "execution_count": 8
        }
      ]
    },
    {
      "cell_type": "markdown",
      "source": [
        "變數名稱的只能使用以下這幾種字元：\n",
        "\n",
        "* a-z, A-Z, 0-9, _ 。\n",
        "\n",
        "* 區分大小寫，apple ≠ APPLE ≠ Apple 。\n",
        "\n",
        "* 開頭不能使用數字、不能有空格。\n",
        "\n",
        "* 以底線開頭的變數有特殊意義。\n",
        "\n",
        "* 不能是python保留字 (可以呼叫help(\"keywords\")去看有哪些保留字)"
      ],
      "metadata": {
        "id": "QP_d2DaN4yJv"
      }
    },
    {
      "cell_type": "code",
      "source": [
        "#合法的變數名稱:\n",
        "\n",
        "a = 1\n",
        "varname = 'prof'"
      ],
      "metadata": {
        "id": "GOvOcSpj5Mqh"
      },
      "execution_count": null,
      "outputs": []
    },
    {
      "cell_type": "code",
      "source": [
        "#不合法的變數名稱：\n",
        "\n",
        "1st_column = 1\n",
        "my variable = 'prof'"
      ],
      "metadata": {
        "id": "4wo1_yaH5cvt"
      },
      "execution_count": null,
      "outputs": []
    },
    {
      "cell_type": "markdown",
      "source": [
        "其他合法的變數命名方式"
      ],
      "metadata": {
        "id": "JKFLXFdD5pV3"
      }
    },
    {
      "cell_type": "code",
      "source": [
        "a = b = c = 0\n",
        "\n",
        "print(a)\n",
        "print(b)\n",
        "print(c)"
      ],
      "metadata": {
        "id": "hEcP0V1G5ntK"
      },
      "execution_count": null,
      "outputs": []
    },
    {
      "cell_type": "code",
      "source": [
        "a, b = 1, 2\n",
        "\n",
        "print(a)\n",
        "print(b)"
      ],
      "metadata": {
        "id": "9lKqcL0P5wkw"
      },
      "execution_count": null,
      "outputs": []
    },
    {
      "cell_type": "markdown",
      "source": [
        "## Python的簡單數學運算"
      ],
      "metadata": {
        "id": "zMMiPhjg3oXY"
      }
    },
    {
      "cell_type": "markdown",
      "source": [
        "加法"
      ],
      "metadata": {
        "id": "V-RHC1Cov8n6"
      }
    },
    {
      "cell_type": "code",
      "source": [
        "1+1"
      ],
      "metadata": {
        "id": "0SFVwE8a3pRO"
      },
      "execution_count": null,
      "outputs": []
    },
    {
      "cell_type": "markdown",
      "source": [
        "減法"
      ],
      "metadata": {
        "id": "Ub-moVOtv__l"
      }
    },
    {
      "cell_type": "code",
      "source": [
        "10-5"
      ],
      "metadata": {
        "id": "AfajBbDOvbE_"
      },
      "execution_count": null,
      "outputs": []
    },
    {
      "cell_type": "markdown",
      "source": [
        "乘法"
      ],
      "metadata": {
        "id": "TWhPkAYrwEM-"
      }
    },
    {
      "cell_type": "code",
      "source": [
        "2*2"
      ],
      "metadata": {
        "id": "UXmd3Tmm3raP"
      },
      "execution_count": null,
      "outputs": []
    },
    {
      "cell_type": "markdown",
      "source": [
        "除法"
      ],
      "metadata": {
        "id": "BSTOKAfkwGBI"
      }
    },
    {
      "cell_type": "code",
      "source": [
        "100/6"
      ],
      "metadata": {
        "id": "Fm2z8St33tmE"
      },
      "execution_count": null,
      "outputs": []
    },
    {
      "cell_type": "markdown",
      "source": [
        "次方"
      ],
      "metadata": {
        "id": "s7Q6ZysQwH0D"
      }
    },
    {
      "cell_type": "code",
      "source": [
        "4**3"
      ],
      "metadata": {
        "id": "kx3e3L_7vzyi"
      },
      "execution_count": null,
      "outputs": []
    },
    {
      "cell_type": "markdown",
      "source": [
        "取餘數"
      ],
      "metadata": {
        "id": "c-vc-83owVKX"
      }
    },
    {
      "cell_type": "code",
      "source": [
        "100%6"
      ],
      "metadata": {
        "id": "nvw4YslSvfvi"
      },
      "execution_count": null,
      "outputs": []
    },
    {
      "cell_type": "markdown",
      "source": [
        "取商數"
      ],
      "metadata": {
        "id": "9seJCTmlwhC7"
      }
    },
    {
      "cell_type": "code",
      "source": [
        "100//6"
      ],
      "metadata": {
        "id": "z1Ncv5CUwd9C"
      },
      "execution_count": null,
      "outputs": []
    },
    {
      "cell_type": "markdown",
      "source": [
        "字串的運算"
      ],
      "metadata": {
        "id": "3fzczIqA9bCR"
      }
    },
    {
      "cell_type": "code",
      "source": [
        "\"臺大\" + ' '+ '公事所'"
      ],
      "metadata": {
        "id": "JiAb4Pttx7Mh"
      },
      "execution_count": null,
      "outputs": []
    },
    {
      "cell_type": "code",
      "source": [
        "\"臺大\" * 10"
      ],
      "metadata": {
        "id": "E7LC6Yq-x-fd"
      },
      "execution_count": null,
      "outputs": []
    },
    {
      "cell_type": "code",
      "source": [
        "\"臺大\" * 10.0"
      ],
      "metadata": {
        "id": "bpI_56wDyLxq"
      },
      "execution_count": null,
      "outputs": []
    },
    {
      "cell_type": "code",
      "source": [
        "\"臺大\" + 40"
      ],
      "metadata": {
        "id": "FtoDb9layFji"
      },
      "execution_count": null,
      "outputs": []
    },
    {
      "cell_type": "code",
      "source": [
        "a = \"臺大\"\n",
        "b = '公事所'\n",
        "\n",
        "print(a, b)\n",
        "print(a + b)\n",
        "print(a * 10)"
      ],
      "metadata": {
        "id": "UA3LvcgqRgk_"
      },
      "execution_count": null,
      "outputs": []
    },
    {
      "cell_type": "markdown",
      "source": [
        "## 不同資料類型的轉換"
      ],
      "metadata": {
        "id": "UHBJRtzK9gF3"
      }
    },
    {
      "cell_type": "code",
      "source": [
        "a = '1'\n",
        "print(type(a))"
      ],
      "metadata": {
        "id": "gFl5bYE9FBK9"
      },
      "execution_count": null,
      "outputs": []
    },
    {
      "cell_type": "code",
      "source": [
        "a+a"
      ],
      "metadata": {
        "id": "XeY28aLjFMJ0"
      },
      "execution_count": null,
      "outputs": []
    },
    {
      "cell_type": "code",
      "source": [
        "a = int(a)\n",
        "print(type(a))"
      ],
      "metadata": {
        "id": "YXd6N5c-FGh-"
      },
      "execution_count": null,
      "outputs": []
    },
    {
      "cell_type": "code",
      "source": [
        "a+a"
      ],
      "metadata": {
        "id": "FzZwCkyBGBEK"
      },
      "execution_count": null,
      "outputs": []
    },
    {
      "cell_type": "code",
      "source": [
        "a = str(a)\n",
        "b = float(a)\n",
        "\n",
        "print(a)\n",
        "print(b)"
      ],
      "metadata": {
        "id": "lqTvC1mXFS4Z"
      },
      "execution_count": null,
      "outputs": []
    },
    {
      "cell_type": "code",
      "source": [
        "a = 1\n",
        "a = bool(a)\n",
        "\n",
        "a"
      ],
      "metadata": {
        "id": "EgqMlCwKFhtW"
      },
      "execution_count": null,
      "outputs": []
    },
    {
      "cell_type": "markdown",
      "source": [
        "## 布林值 (T or F)"
      ],
      "metadata": {
        "id": "Hd-TcmBFzdWo"
      }
    },
    {
      "cell_type": "code",
      "source": [
        "x = True"
      ],
      "metadata": {
        "id": "_gWOFAo10TOx"
      },
      "execution_count": null,
      "outputs": []
    },
    {
      "cell_type": "code",
      "source": [
        "y = False"
      ],
      "metadata": {
        "id": "9d5vUZ2H0V-j"
      },
      "execution_count": null,
      "outputs": []
    },
    {
      "cell_type": "code",
      "source": [
        "1 == 2"
      ],
      "metadata": {
        "id": "5CMu9F5M0ZhI"
      },
      "execution_count": null,
      "outputs": []
    },
    {
      "cell_type": "code",
      "source": [
        "1 != 2"
      ],
      "metadata": {
        "id": "MDsyQZuu0bGh"
      },
      "execution_count": null,
      "outputs": []
    },
    {
      "cell_type": "code",
      "source": [
        "1 + 2 > 3"
      ],
      "metadata": {
        "id": "OvOzzylh0fbc"
      },
      "execution_count": null,
      "outputs": []
    },
    {
      "cell_type": "code",
      "source": [
        "1 + 2 >= 3"
      ],
      "metadata": {
        "id": "bIxXxwdpzlLM"
      },
      "execution_count": null,
      "outputs": []
    },
    {
      "cell_type": "code",
      "source": [
        "1 + 2 <= 3"
      ],
      "metadata": {
        "id": "I12yqCQd0jT3"
      },
      "execution_count": null,
      "outputs": []
    },
    {
      "cell_type": "code",
      "source": [
        "'10' == 10"
      ],
      "metadata": {
        "id": "8Ix4_GRb0qQ4"
      },
      "execution_count": null,
      "outputs": []
    },
    {
      "cell_type": "code",
      "source": [
        "(2 == 2) and (5 == 6)"
      ],
      "metadata": {
        "id": "EEsjW7mZzs3M"
      },
      "execution_count": null,
      "outputs": []
    },
    {
      "cell_type": "code",
      "source": [
        "(2 == 2) or (5 == 6)"
      ],
      "metadata": {
        "id": "fjLBBo-Bzxr2"
      },
      "execution_count": null,
      "outputs": []
    },
    {
      "cell_type": "code",
      "source": [
        "'ntu' == 'NTU'"
      ],
      "metadata": {
        "id": "Zg7eSMcMzcQb"
      },
      "execution_count": null,
      "outputs": []
    },
    {
      "cell_type": "markdown",
      "source": [
        "## 字串"
      ],
      "metadata": {
        "id": "z_mrEq356Xsk"
      }
    },
    {
      "cell_type": "code",
      "source": [
        "ntu_gipa = '國立臺灣大學公共事務研究所'\n",
        "\n",
        "print(ntu_gipa[0])\n",
        "print(ntu_gipa[3:])\n",
        "print(ntu_gipa[:4])\n",
        "print(ntu_gipa[3:7])\n",
        "print(ntu_gipa[-2:])\n",
        "print(ntu_gipa[0:6:1])\n",
        "print(ntu_gipa[0:6:2])\n",
        "print(ntu_gipa[::-1])"
      ],
      "metadata": {
        "colab": {
          "base_uri": "https://localhost:8080/"
        },
        "id": "-JXRmnpv6LFM",
        "outputId": "978466ea-bc15-496b-9bf1-d2dbc1ab6cd6"
      },
      "execution_count": 15,
      "outputs": [
        {
          "output_type": "stream",
          "name": "stdout",
          "text": [
            "國\n",
            "灣大學公共事務研究所\n",
            "國立臺灣\n",
            "灣大學公\n",
            "究所\n",
            "國立臺灣大學\n",
            "國臺大\n",
            "所究研務事共公學大灣臺立國\n"
          ]
        }
      ]
    },
    {
      "cell_type": "code",
      "source": [
        "\"臺\" in ntu_gipa"
      ],
      "metadata": {
        "id": "3p4Awiv571AR"
      },
      "execution_count": null,
      "outputs": []
    },
    {
      "cell_type": "code",
      "source": [
        "\"台\" in ntu_gipa"
      ],
      "metadata": {
        "id": "cSzicP1y7mvd"
      },
      "execution_count": null,
      "outputs": []
    },
    {
      "cell_type": "code",
      "source": [
        "\"台\" not in ntu_gipa"
      ],
      "metadata": {
        "id": "tRsEpuYg74Un"
      },
      "execution_count": null,
      "outputs": []
    },
    {
      "cell_type": "markdown",
      "source": [
        "f-strings可以將變數值帶入字串，或是用來格式化。\n",
        "\n",
        "使用方法是在字串前加一個字母f，然後想要置換的東西要用”{}”包起來。"
      ],
      "metadata": {
        "id": "ibU7DTZa8CBs"
      }
    },
    {
      "cell_type": "code",
      "source": [
        "year = 1\n",
        "\n",
        "print(f'我是{ntu_gipa}的學生')\n",
        "print(f'我是{ntu_gipa}的學生,今年碩{year},明年碩{year+1}')"
      ],
      "metadata": {
        "id": "axsD7J_t8MG0"
      },
      "execution_count": null,
      "outputs": []
    },
    {
      "cell_type": "code",
      "source": [
        "name = input(\"請問你叫什麼名字? \")\n",
        "\n",
        "grade = int(input(\"你今年碩幾了? \"))\n",
        "\n",
        "grade_next_year = grade + 1\n",
        "\n",
        "print(f\"嗨, {name}! 明年你就是碩{grade_next_year}了呢! 你論文寫完了嗎?\")"
      ],
      "metadata": {
        "id": "f-J-du4D1Ke-"
      },
      "execution_count": null,
      "outputs": []
    },
    {
      "cell_type": "markdown",
      "source": [
        "# **條件控制**"
      ],
      "metadata": {
        "id": "wRUn7LJZ1TEl"
      }
    },
    {
      "cell_type": "markdown",
      "source": [
        "## if, elif, else"
      ],
      "metadata": {
        "id": "zRzyo9coC_1O"
      }
    },
    {
      "cell_type": "code",
      "source": [
        "language = 'Chinese'\n",
        "\n",
        "if language == 'Chinese':\n",
        "  print('你好!')"
      ],
      "metadata": {
        "id": "axr1NMLT1aKU"
      },
      "execution_count": null,
      "outputs": []
    },
    {
      "cell_type": "code",
      "source": [
        "language = 'Japanese'\n",
        "\n",
        "if language == 'Chinese':\n",
        "  print('你好!')\n",
        "elif language == 'Japanese':\n",
        "  print('どうも!')"
      ],
      "metadata": {
        "id": "kB627k1e1rW9"
      },
      "execution_count": null,
      "outputs": []
    },
    {
      "cell_type": "code",
      "source": [
        "language = 'Korean'\n",
        "\n",
        "if language == 'Chinese':\n",
        "  print('你好!')\n",
        "elif language == 'Japanese':\n",
        "  print('どうも!')\n",
        "else:\n",
        "  print('Hi!')"
      ],
      "metadata": {
        "id": "lu8ZvuOb1s9C"
      },
      "execution_count": null,
      "outputs": []
    },
    {
      "cell_type": "markdown",
      "source": [
        "## while loop"
      ],
      "metadata": {
        "id": "cSixVKJLDZU5"
      }
    },
    {
      "cell_type": "code",
      "source": [
        "num = 0\n",
        "\n",
        "while num < 3:\n",
        "  print(num)\n",
        "  num = num + 1"
      ],
      "metadata": {
        "id": "tUXfXtX8-eLx"
      },
      "execution_count": null,
      "outputs": []
    },
    {
      "cell_type": "markdown",
      "source": [
        "1+2+3+....+97+98+99+100"
      ],
      "metadata": {
        "id": "71PnmPU_-DkM"
      }
    },
    {
      "cell_type": "code",
      "source": [
        "sum = 0\n",
        "num = 1\n",
        "\n",
        "while num <= 100:\n",
        "  sum += num\n",
        "  num += 1\n",
        "\n",
        "print(f'sum: {sum}')"
      ],
      "metadata": {
        "id": "JeSwWeoT6uK6"
      },
      "execution_count": null,
      "outputs": []
    },
    {
      "cell_type": "markdown",
      "source": [
        "breakc會使迴圈立刻中止"
      ],
      "metadata": {
        "id": "O0QIY08yDjK5"
      }
    },
    {
      "cell_type": "code",
      "source": [
        "sum = 0\n",
        "num = 1\n",
        "\n",
        "while num <= 100:\n",
        "  sum += num\n",
        "  num += 1\n",
        "\n",
        "  if sum >= 100:\n",
        "    break\n",
        "\n",
        "  print(f'sum: {sum}')\n",
        "\n",
        "print(f'final sum: {sum}')"
      ],
      "metadata": {
        "colab": {
          "base_uri": "https://localhost:8080/"
        },
        "id": "sq1H9irU-xr_",
        "outputId": "e9305e09-d5db-4048-9833-31a405ae4ada"
      },
      "execution_count": null,
      "outputs": [
        {
          "output_type": "stream",
          "name": "stdout",
          "text": [
            "sum: 1\n",
            "sum: 3\n",
            "sum: 6\n",
            "sum: 10\n",
            "sum: 15\n",
            "sum: 21\n",
            "sum: 28\n",
            "sum: 36\n",
            "sum: 45\n",
            "sum: 55\n",
            "sum: 66\n",
            "sum: 78\n",
            "sum: 91\n",
            "final sum: 105\n"
          ]
        }
      ]
    },
    {
      "cell_type": "markdown",
      "source": [
        "continue會使迴圈跳過下面的指令，然後重新開始"
      ],
      "metadata": {
        "id": "_8NwEztB_kZd"
      }
    },
    {
      "cell_type": "code",
      "source": [
        "sum = 0\n",
        "num = 1\n",
        "\n",
        "while num <= 100:\n",
        "  sum += num\n",
        "  num += 1\n",
        "\n",
        "  if sum >= 100:\n",
        "    continue\n",
        "\n",
        "  print(f'sum: {sum}')\n",
        "\n",
        "print(f'final sum: {sum}')"
      ],
      "metadata": {
        "colab": {
          "base_uri": "https://localhost:8080/"
        },
        "id": "05WQwiXN_Sx6",
        "outputId": "9a59092f-debc-4179-843c-518a3c1cabf9"
      },
      "execution_count": null,
      "outputs": [
        {
          "output_type": "stream",
          "name": "stdout",
          "text": [
            "sum: 1\n",
            "sum: 3\n",
            "sum: 6\n",
            "sum: 10\n",
            "sum: 15\n",
            "sum: 21\n",
            "sum: 28\n",
            "sum: 36\n",
            "sum: 45\n",
            "sum: 55\n",
            "sum: 66\n",
            "sum: 78\n",
            "sum: 91\n",
            "final sum: 5050\n"
          ]
        }
      ]
    },
    {
      "cell_type": "markdown",
      "source": [
        "## for loop"
      ],
      "metadata": {
        "id": "wC7d2mgFEYsN"
      }
    },
    {
      "cell_type": "code",
      "source": [
        "a_list = [1,2,3,4,5]\n",
        "\n",
        "for i in a_list:\n",
        "  print(i)"
      ],
      "metadata": {
        "colab": {
          "base_uri": "https://localhost:8080/"
        },
        "id": "fnwCVgRdlY_j",
        "outputId": "66c8f4c4-9d26-4a20-f261-9d7b171e3121"
      },
      "execution_count": 27,
      "outputs": [
        {
          "output_type": "stream",
          "name": "stdout",
          "text": [
            "1\n",
            "2\n",
            "3\n",
            "4\n",
            "5\n"
          ]
        }
      ]
    },
    {
      "cell_type": "code",
      "source": [
        "for i in \"NTU\":\n",
        "  print(i)"
      ],
      "metadata": {
        "colab": {
          "base_uri": "https://localhost:8080/"
        },
        "id": "ZhGArGlhrcdJ",
        "outputId": "331ac4f3-6d39-4744-d401-5bd28a271334"
      },
      "execution_count": 28,
      "outputs": [
        {
          "output_type": "stream",
          "name": "stdout",
          "text": [
            "N\n",
            "T\n",
            "U\n"
          ]
        }
      ]
    },
    {
      "cell_type": "code",
      "source": [
        "weekdays = ['Sun', 'Mon', 'Tue', 'Wed', 'Thu', 'Fri', 'Sat']\n",
        "\n",
        "for weekday in weekdays:\n",
        "    print(weekday)"
      ],
      "metadata": {
        "colab": {
          "base_uri": "https://localhost:8080/"
        },
        "id": "PlUbDGbOmHYq",
        "outputId": "4a7ab885-5349-4f4e-f0fc-b5475848af6d"
      },
      "execution_count": 29,
      "outputs": [
        {
          "output_type": "stream",
          "name": "stdout",
          "text": [
            "Sun\n",
            "Mon\n",
            "Tue\n",
            "Wed\n",
            "Thu\n",
            "Fri\n",
            "Sat\n"
          ]
        }
      ]
    },
    {
      "cell_type": "markdown",
      "source": [
        "range()函數會回傳一個0開始、每次增加1、以你指定的stop為結束值的序列（不包含結束值）"
      ],
      "metadata": {
        "id": "OldZzSlnmE4A"
      }
    },
    {
      "cell_type": "code",
      "source": [
        "for num in range(9):\n",
        "  print(num)"
      ],
      "metadata": {
        "colab": {
          "base_uri": "https://localhost:8080/"
        },
        "id": "68SYbJUoER-F",
        "outputId": "8bf96a53-20c3-46c4-89d4-db9a22c29cbd"
      },
      "execution_count": null,
      "outputs": [
        {
          "output_type": "stream",
          "name": "stdout",
          "text": [
            "0\n",
            "1\n",
            "2\n",
            "3\n",
            "4\n",
            "5\n",
            "6\n",
            "7\n",
            "8\n"
          ]
        }
      ]
    },
    {
      "cell_type": "code",
      "source": [
        "for num in range(1,9):\n",
        "  print(num)"
      ],
      "metadata": {
        "colab": {
          "base_uri": "https://localhost:8080/"
        },
        "id": "2kWWBbdl_2aM",
        "outputId": "39babb51-1c4f-4b98-e8d2-88c86fd1831d"
      },
      "execution_count": null,
      "outputs": [
        {
          "output_type": "stream",
          "name": "stdout",
          "text": [
            "1\n",
            "2\n",
            "3\n",
            "4\n",
            "5\n",
            "6\n",
            "7\n",
            "8\n"
          ]
        }
      ]
    },
    {
      "cell_type": "markdown",
      "source": [
        "## 練習題"
      ],
      "metadata": {
        "id": "ItEtbevHv7YD"
      }
    },
    {
      "cell_type": "markdown",
      "source": [
        "雙重迴圈: 九九乘法表\n",
        "\n",
        "1X1 = 1\n",
        "1X2 = 2\n",
        "1X3 = 3\n",
        ".....\n",
        "9X7 = 63\n",
        "9X8 = 72\n",
        "9X9 = 81"
      ],
      "metadata": {
        "id": "jJRipb7HAjBa"
      }
    },
    {
      "cell_type": "code",
      "source": [],
      "metadata": {
        "id": "R8Onvw0WApPE"
      },
      "execution_count": null,
      "outputs": []
    },
    {
      "cell_type": "markdown",
      "source": [
        "計算1~100所有基數的總和"
      ],
      "metadata": {
        "id": "e_r9KHakAZHM"
      }
    },
    {
      "cell_type": "code",
      "source": [],
      "metadata": {
        "id": "EyN-DjphAhON"
      },
      "execution_count": null,
      "outputs": []
    },
    {
      "cell_type": "markdown",
      "source": [
        "計算1~100所有偶數的總和"
      ],
      "metadata": {
        "id": "bBXjZ3JBAhdd"
      }
    },
    {
      "cell_type": "code",
      "source": [],
      "metadata": {
        "id": "cbu1j_RVArDb"
      },
      "execution_count": null,
      "outputs": []
    },
    {
      "cell_type": "markdown",
      "source": [
        "# **函式**"
      ],
      "metadata": {
        "id": "bikbxIgQBMDJ"
      }
    },
    {
      "cell_type": "code",
      "source": [
        "def python_for_beginner():\n",
        "  print('Hello World')"
      ],
      "metadata": {
        "id": "C1QpvmMWBcHn"
      },
      "execution_count": null,
      "outputs": []
    },
    {
      "cell_type": "code",
      "source": [
        "python_for_beginner()"
      ],
      "metadata": {
        "id": "MlMV9BZnBjdg"
      },
      "execution_count": null,
      "outputs": []
    },
    {
      "cell_type": "code",
      "source": [
        "def python_for_beginner(name):\n",
        "  print(f'Hello {name}')"
      ],
      "metadata": {
        "id": "DcjcoS4WCwWl"
      },
      "execution_count": null,
      "outputs": []
    },
    {
      "cell_type": "code",
      "source": [
        "python_for_beginner(\"John\")"
      ],
      "metadata": {
        "id": "reV2SIw0B1qI"
      },
      "execution_count": null,
      "outputs": []
    },
    {
      "cell_type": "code",
      "source": [
        "def sumup_print(sum, num, freq):\n",
        "  while num <= freq:\n",
        "    sum += num\n",
        "    num += 1\n",
        "\n",
        "  print(sum)\n"
      ],
      "metadata": {
        "id": "d_Btzzo8BvsF"
      },
      "execution_count": 4,
      "outputs": []
    },
    {
      "cell_type": "code",
      "source": [
        "sumup_print(0, 1, 1000)"
      ],
      "metadata": {
        "id": "BRe1zY0WCL5P"
      },
      "execution_count": null,
      "outputs": []
    },
    {
      "cell_type": "code",
      "source": [
        "def sumup(sum, num, freq):\n",
        "  while num <= freq:\n",
        "    sum += num\n",
        "    num += 1\n",
        "\n",
        "  return sum\n"
      ],
      "metadata": {
        "id": "65tWdXZvDJV8"
      },
      "execution_count": 6,
      "outputs": []
    },
    {
      "cell_type": "code",
      "source": [
        "sumup(0, 1, 1000)"
      ],
      "metadata": {
        "id": "mTWLjiTHDNIk"
      },
      "execution_count": null,
      "outputs": []
    },
    {
      "cell_type": "markdown",
      "source": [
        "return跟print的差別"
      ],
      "metadata": {
        "id": "Cp6w-JZssqEb"
      }
    },
    {
      "cell_type": "code",
      "source": [
        "sumup_print(0, 1, 1000) + sumup_print(0, 1, 1000)"
      ],
      "metadata": {
        "id": "vYLjrVu4jvhs"
      },
      "execution_count": null,
      "outputs": []
    },
    {
      "cell_type": "code",
      "source": [
        "sumup(0, 1, 1000) + sumup(0, 1, 1000)"
      ],
      "metadata": {
        "id": "czZftZDyji68"
      },
      "execution_count": null,
      "outputs": []
    },
    {
      "cell_type": "markdown",
      "source": [
        "任意引數：*args\n",
        "\n",
        "當想要function可以傳入不固定的參數數量時，可以使用可變動參數。"
      ],
      "metadata": {
        "id": "W6mc5AwsjV7P"
      }
    },
    {
      "cell_type": "code",
      "source": [
        "def my_sum(*args):\n",
        "    result = 0\n",
        "    for number in args:\n",
        "        result += number\n",
        "    print(result)\n",
        "\n",
        "my_sum(1,2,3,4,5)"
      ],
      "metadata": {
        "id": "zx4dBFnPjJp_"
      },
      "execution_count": null,
      "outputs": []
    },
    {
      "cell_type": "markdown",
      "source": [
        "小練習:\n",
        "請設計一個函式來去計算從1到n所有奇數的總和"
      ],
      "metadata": {
        "id": "EmoSwWYP-e2X"
      }
    },
    {
      "cell_type": "code",
      "source": [
        "def sumup_odd():\n",
        "\n",
        "\n",
        "\n",
        "sumup_odd()"
      ],
      "metadata": {
        "id": "2C6ngcDb_TRh"
      },
      "execution_count": null,
      "outputs": []
    },
    {
      "cell_type": "markdown",
      "source": [
        "# **資料結構**"
      ],
      "metadata": {
        "id": "-SyL5niY2eZM"
      }
    },
    {
      "cell_type": "markdown",
      "source": [
        "## List"
      ],
      "metadata": {
        "id": "V74fb-hTNfR7"
      }
    },
    {
      "cell_type": "code",
      "source": [
        "num_list = list([1,2,3])"
      ],
      "metadata": {
        "id": "cPaAT-ky2igk"
      },
      "execution_count": 29,
      "outputs": []
    },
    {
      "cell_type": "code",
      "source": [
        "num_list = [1,2,3,[4,5,6]]"
      ],
      "metadata": {
        "id": "YpfSFDltCJJg"
      },
      "execution_count": 34,
      "outputs": []
    },
    {
      "cell_type": "code",
      "source": [
        "prof = ['陳淳文', '王宏文', '劉康慧', '孫煒', '林子倫', '郭乃菱', '洪美仁', '郭銘峰', '吳舜文']"
      ],
      "metadata": {
        "id": "W1gpea6p3YKZ"
      },
      "execution_count": 11,
      "outputs": []
    },
    {
      "cell_type": "markdown",
      "source": [
        "可以用len()去得知list的長度"
      ],
      "metadata": {
        "id": "ca5GsxW0w4kZ"
      }
    },
    {
      "cell_type": "code",
      "source": [
        "len(prof)"
      ],
      "metadata": {
        "colab": {
          "base_uri": "https://localhost:8080/"
        },
        "id": "_1QfQfSUOEfW",
        "outputId": "70cd7992-233c-44e9-c85f-b7fa0852c707"
      },
      "execution_count": 12,
      "outputs": [
        {
          "output_type": "execute_result",
          "data": {
            "text/plain": [
              "9"
            ]
          },
          "metadata": {},
          "execution_count": 12
        }
      ]
    },
    {
      "cell_type": "markdown",
      "source": [
        "list的切片跟字串的切片是一樣的!"
      ],
      "metadata": {
        "id": "n1v-ZxAbw92R"
      }
    },
    {
      "cell_type": "code",
      "source": [
        "print(prof[0])\n",
        "print(prof[-1])\n",
        "print(prof[1:])\n",
        "print(prof[0:1])\n",
        "print(prof[::-1])"
      ],
      "metadata": {
        "colab": {
          "base_uri": "https://localhost:8080/"
        },
        "id": "3FHAmKD-C1GY",
        "outputId": "ad96fc1d-af2d-4f63-87c3-2fc0215a1879"
      },
      "execution_count": 31,
      "outputs": [
        {
          "output_type": "stream",
          "name": "stdout",
          "text": [
            "陳淳文\n",
            "吳舜文\n",
            "['王宏文', '劉康慧', '孫煒', '林子倫', '郭乃菱', '洪美仁', '郭銘峰', '吳舜文']\n",
            "['陳淳文']\n",
            "['吳舜文', '郭銘峰', '洪美仁', '郭乃菱', '林子倫', '孫煒', '劉康慧', '王宏文', '陳淳文']\n"
          ]
        }
      ]
    },
    {
      "cell_type": "markdown",
      "source": [
        "如果是一個list裡面包了一個list，那要如何取得被包住的list裡面的資料呢?"
      ],
      "metadata": {
        "id": "4rUE5TrOxHCa"
      }
    },
    {
      "cell_type": "code",
      "source": [
        "print(num_list[3][2])"
      ],
      "metadata": {
        "colab": {
          "base_uri": "https://localhost:8080/"
        },
        "id": "UqMA8EwqENhW",
        "outputId": "08638fad-1d18-436d-813f-a7ea08a4d01c"
      },
      "execution_count": 35,
      "outputs": [
        {
          "output_type": "stream",
          "name": "stdout",
          "text": [
            "6\n"
          ]
        }
      ]
    },
    {
      "cell_type": "markdown",
      "source": [
        "可以把一個list裡面的資料assign給一個值"
      ],
      "metadata": {
        "id": "fJHZS7GExWmV"
      }
    },
    {
      "cell_type": "code",
      "source": [
        "director = prof[1]\n",
        "director"
      ],
      "metadata": {
        "colab": {
          "base_uri": "https://localhost:8080/",
          "height": 35
        },
        "id": "DvwqwT-FEg8Q",
        "outputId": "192b82ce-fb86-40c3-997c-e66f2d7dab98"
      },
      "execution_count": 36,
      "outputs": [
        {
          "output_type": "execute_result",
          "data": {
            "text/plain": [
              "'王宏文'"
            ],
            "application/vnd.google.colaboratory.intrinsic+json": {
              "type": "string"
            }
          },
          "metadata": {},
          "execution_count": 36
        }
      ]
    },
    {
      "cell_type": "markdown",
      "source": [
        "在一個list裡加入新的資料"
      ],
      "metadata": {
        "id": "6G0t5Bjlxcyd"
      }
    },
    {
      "cell_type": "code",
      "source": [
        "prof.append('郭昱瑩')"
      ],
      "metadata": {
        "id": "B_WS08yONe3C"
      },
      "execution_count": 21,
      "outputs": []
    },
    {
      "cell_type": "code",
      "source": [
        "prof"
      ],
      "metadata": {
        "colab": {
          "base_uri": "https://localhost:8080/"
        },
        "id": "HXtc2ZXBkUWA",
        "outputId": "c3c28d9b-7ebe-4c29-d6aa-1d4c5fe7159d"
      },
      "execution_count": 24,
      "outputs": [
        {
          "output_type": "execute_result",
          "data": {
            "text/plain": [
              "['陳淳文', '王宏文', '劉康慧', '孫煒', '林子倫', '郭乃菱', '洪美仁', '郭銘峰', '吳舜文', '郭昱瑩']"
            ]
          },
          "metadata": {},
          "execution_count": 24
        }
      ]
    },
    {
      "cell_type": "markdown",
      "source": [
        "在一個list裡面拿掉一個資料"
      ],
      "metadata": {
        "id": "SSsb6Z1uxhXV"
      }
    },
    {
      "cell_type": "code",
      "source": [
        "prof.remove('郭昱瑩')"
      ],
      "metadata": {
        "id": "9-YYP5skkNhB"
      },
      "execution_count": 16,
      "outputs": []
    },
    {
      "cell_type": "code",
      "source": [
        "prof.pop()"
      ],
      "metadata": {
        "colab": {
          "base_uri": "https://localhost:8080/",
          "height": 35
        },
        "id": "chOUpD2MkKII",
        "outputId": "22572162-c851-4a05-9ee5-c7c70f27cf4c"
      },
      "execution_count": 23,
      "outputs": [
        {
          "output_type": "execute_result",
          "data": {
            "text/plain": [
              "'郭昱瑩'"
            ],
            "application/vnd.google.colaboratory.intrinsic+json": {
              "type": "string"
            }
          },
          "metadata": {},
          "execution_count": 23
        }
      ]
    },
    {
      "cell_type": "code",
      "source": [
        "prof.pop(-1)"
      ],
      "metadata": {
        "id": "mdHoundnkf2b"
      },
      "execution_count": null,
      "outputs": []
    },
    {
      "cell_type": "markdown",
      "source": [
        "在一個list裡加入多個資料"
      ],
      "metadata": {
        "id": "kDstq6MLxqvI"
      }
    },
    {
      "cell_type": "code",
      "source": [
        "prof.append(['黃建實', '李仲軒'])"
      ],
      "metadata": {
        "id": "9njfFBeLjD8A"
      },
      "execution_count": null,
      "outputs": []
    },
    {
      "cell_type": "code",
      "source": [
        "prof.extend(['黃建實', '李仲軒'])"
      ],
      "metadata": {
        "id": "gXc4FfJSO7V0"
      },
      "execution_count": null,
      "outputs": []
    },
    {
      "cell_type": "markdown",
      "source": [
        "看看一個值是不是在一個list裡面"
      ],
      "metadata": {
        "id": "K4XcsjeqxwSI"
      }
    },
    {
      "cell_type": "code",
      "source": [
        "\"郭銘峰\" in prof"
      ],
      "metadata": {
        "id": "FJhIQnfRPL9g",
        "colab": {
          "base_uri": "https://localhost:8080/"
        },
        "outputId": "0da6ed74-1288-4181-a2bd-332d4b5ef9a3"
      },
      "execution_count": 25,
      "outputs": [
        {
          "output_type": "execute_result",
          "data": {
            "text/plain": [
              "True"
            ]
          },
          "metadata": {},
          "execution_count": 25
        }
      ]
    },
    {
      "cell_type": "code",
      "source": [
        "\"郭\" in prof"
      ],
      "metadata": {
        "colab": {
          "base_uri": "https://localhost:8080/"
        },
        "id": "Ke56cviBlFyG",
        "outputId": "8ed0b1fd-b104-4a55-83ac-0bcf16990963"
      },
      "execution_count": 26,
      "outputs": [
        {
          "output_type": "execute_result",
          "data": {
            "text/plain": [
              "False"
            ]
          },
          "metadata": {},
          "execution_count": 26
        }
      ]
    },
    {
      "cell_type": "markdown",
      "source": [
        "我想要把公事所姓郭的老師都找出來，你可以幫我設計一個程式來幫我印出所有姓郭的老師嗎? (請用loop來完成!)"
      ],
      "metadata": {
        "id": "an0f7IXTkuWB"
      }
    },
    {
      "cell_type": "code",
      "source": [],
      "metadata": {
        "id": "ZmCdLpagktdi"
      },
      "execution_count": null,
      "outputs": []
    },
    {
      "cell_type": "markdown",
      "source": [
        "我想要把公事所名字有「文」的老師都找出來，如果老師名字有「文」的話，那程式便會回答\"老師，我RA/TA的薪水呢QQ\"，如果老師名字沒有「文」的話，那程式便會回答\"老師好!\" (請用loop來完成!)"
      ],
      "metadata": {
        "id": "LXWgTV0HRRR9"
      }
    },
    {
      "cell_type": "code",
      "source": [],
      "metadata": {
        "id": "VjVjK3jBSJB5"
      },
      "execution_count": null,
      "outputs": []
    },
    {
      "cell_type": "markdown",
      "source": [
        "練習一下!\n",
        "\n",
        "請做一個簡單的小遊戲，python會隨機生成一個1~10的數字，然後你要去猜。如果猜對了，遊戲會print('恭喜!')。如果不對，遊戲會告訴你，你猜的這個數字太大或太小。如果你已經猜過這個數字的話，那遊戲會告訴你，妳已經猜過了。"
      ],
      "metadata": {
        "id": "ds0SEx-jPvct"
      }
    },
    {
      "cell_type": "code",
      "source": [
        "import random\n",
        "\n",
        "# Step 1: 生成隨機數字\n",
        "target_number = random.randint(1, 10)\n",
        "guess = None\n",
        "attempted_guesses = []\n",
        "\n",
        "# Step 2: 猜數字\n",
        "\n"
      ],
      "metadata": {
        "id": "d0ntPazQPxd2"
      },
      "execution_count": null,
      "outputs": []
    },
    {
      "cell_type": "markdown",
      "source": [
        "## dictionary"
      ],
      "metadata": {
        "id": "rLCItx6bPXDk"
      }
    },
    {
      "cell_type": "markdown",
      "source": [
        "字典這種資料型態的組成是一群成對的key與value。key在字典裡不能重複，至於value則沒有什麼限制。"
      ],
      "metadata": {
        "id": "8egub2Fy0ENu"
      }
    },
    {
      "cell_type": "markdown",
      "source": [
        "以下兩種方法都可以建立dictionary。"
      ],
      "metadata": {
        "id": "wrHryHKWz-GT"
      }
    },
    {
      "cell_type": "code",
      "source": [
        "# key: value\n",
        "a_dict = {'a': 1, 'b': 2, 'c':3}\n",
        "\n",
        "# key=value\n",
        "a_dict = dict(a=1, b=2, c=3)"
      ],
      "metadata": {
        "id": "_3S5Op1hz6KH"
      },
      "execution_count": null,
      "outputs": []
    },
    {
      "cell_type": "markdown",
      "source": [
        "利用key來取出value"
      ],
      "metadata": {
        "id": "hNFryZvU01EC"
      }
    },
    {
      "cell_type": "code",
      "source": [
        "a_dict['a']"
      ],
      "metadata": {
        "id": "OPtZST3l0xEm"
      },
      "execution_count": null,
      "outputs": []
    },
    {
      "cell_type": "code",
      "source": [
        "a_dict.get('a')"
      ],
      "metadata": {
        "id": "EYopwA8703d8"
      },
      "execution_count": null,
      "outputs": []
    },
    {
      "cell_type": "markdown",
      "source": [
        "若key值不存在的話，用這個方法python會丟出錯誤。"
      ],
      "metadata": {
        "id": "OkYvl1dx05yk"
      }
    },
    {
      "cell_type": "code",
      "source": [
        "a_dict['d']"
      ],
      "metadata": {
        "id": "KcLKqIbO07Yz"
      },
      "execution_count": null,
      "outputs": []
    },
    {
      "cell_type": "markdown",
      "source": [
        "若key值不存在的話，用.get()方法python不會丟出錯誤。"
      ],
      "metadata": {
        "id": "qkbii89i1FHy"
      }
    },
    {
      "cell_type": "code",
      "source": [
        "a_dict.get('d') # 不會回傳任何東西"
      ],
      "metadata": {
        "id": "Qw8SAGcR1GsL"
      },
      "execution_count": null,
      "outputs": []
    },
    {
      "cell_type": "markdown",
      "source": [
        "dict新增項目\n",
        "\n",
        "新增項目的方法有兩種："
      ],
      "metadata": {
        "id": "lbD5zRQj1oui"
      }
    },
    {
      "cell_type": "code",
      "source": [
        "a_dict = {'a': 1, 'b': 2, 'c':3}\n",
        "\n",
        "# 第一種\n",
        "a_dict['d'] = 4\n",
        "print(a_dict)\n",
        "\n",
        "# 第二種\n",
        "a_dict.update({'e': 5})\n",
        "print(a_dict)"
      ],
      "metadata": {
        "id": "oOZoMY581o62"
      },
      "execution_count": null,
      "outputs": []
    },
    {
      "cell_type": "markdown",
      "source": [
        "dict刪除項目"
      ],
      "metadata": {
        "id": "5gjRGHVQ4HIm"
      }
    },
    {
      "cell_type": "code",
      "source": [
        "a_dict = {'a': 1, 'b': 2, 'c':3}\n",
        "\n",
        "a_dict.pop('a')\n",
        "\n",
        "del a_dict['b']"
      ],
      "metadata": {
        "id": "bNBJaOSk4-BL"
      },
      "execution_count": null,
      "outputs": []
    },
    {
      "cell_type": "markdown",
      "source": [
        "dict中的key值不能重複\n",
        "\n",
        "當要新增項目時，dict中對應的key值若已經存在，會以新的為準，也就是說如果key已經存在，那新的值會把舊的值蓋掉。"
      ],
      "metadata": {
        "id": "anYS9TD25HY9"
      }
    },
    {
      "cell_type": "code",
      "source": [
        "a_dict = {'a': 1, 'b': 2, 'c':3}\n",
        "b_dict = {'b': 'ni', 'c': 'san', 'd': 'shi'}\n",
        "\n",
        "a_dict.update(b_dict)\n",
        "print(a_dict)"
      ],
      "metadata": {
        "id": "ZEY0Y5e65Uhw"
      },
      "execution_count": null,
      "outputs": []
    },
    {
      "cell_type": "markdown",
      "source": [
        "取得dict的內容"
      ],
      "metadata": {
        "id": "O_nMFb0U5wjj"
      }
    },
    {
      "cell_type": "code",
      "source": [
        "ntu_gipa = {'教授': prof,\n",
        "       '地址': '臺北市大安區羅斯福路四段1號 社會科學院頤賢館322室',\n",
        "       '電話': '02-3366-8453',\n",
        "       '傳真': '02-2365-8416',\n",
        "       '網站': 'http://pa.ntu.edu.tw/',\n",
        "       'Email': 'ntupubaff@ntu.edu.tw'}"
      ],
      "metadata": {
        "id": "7X8YbnaZ6t8c"
      },
      "execution_count": 30,
      "outputs": []
    },
    {
      "cell_type": "code",
      "source": [
        "ntu_gipa.keys()"
      ],
      "metadata": {
        "colab": {
          "base_uri": "https://localhost:8080/"
        },
        "id": "Lp9CXd5E51LA",
        "outputId": "430b9108-de05-4fd9-86fe-8c8974032fed"
      },
      "execution_count": 32,
      "outputs": [
        {
          "output_type": "execute_result",
          "data": {
            "text/plain": [
              "dict_keys(['教授', '地址', '電話', '傳真', '網站', 'Email'])"
            ]
          },
          "metadata": {},
          "execution_count": 32
        }
      ]
    },
    {
      "cell_type": "code",
      "source": [
        "ntu_gipa.values()"
      ],
      "metadata": {
        "colab": {
          "base_uri": "https://localhost:8080/"
        },
        "id": "YU2w-XoH59ej",
        "outputId": "af05b879-0f68-4e01-c080-146197113778"
      },
      "execution_count": 33,
      "outputs": [
        {
          "output_type": "execute_result",
          "data": {
            "text/plain": [
              "dict_values([['陳淳文', '王宏文', '劉康慧', '孫煒', '林子倫', '郭乃菱', '洪美仁', '郭銘峰', '吳舜文', '郭昱瑩'], '臺北市大安區羅斯福路四段1號 社會科學院頤賢館322室', '02-3366-8453', '02-2365-8416', 'http://pa.ntu.edu.tw/', 'ntupubaff@ntu.edu.tw'])"
            ]
          },
          "metadata": {},
          "execution_count": 33
        }
      ]
    },
    {
      "cell_type": "code",
      "source": [
        "ntu_gipa.items()"
      ],
      "metadata": {
        "colab": {
          "base_uri": "https://localhost:8080/"
        },
        "id": "zARbv96R6B6B",
        "outputId": "91c6ef6f-5be1-4e1f-bb7c-b6c824307218"
      },
      "execution_count": 35,
      "outputs": [
        {
          "output_type": "execute_result",
          "data": {
            "text/plain": [
              "dict_items([('教授', ['陳淳文', '王宏文', '劉康慧', '孫煒', '林子倫', '郭乃菱', '洪美仁', '郭銘峰', '吳舜文', '郭昱瑩']), ('地址', '臺北市大安區羅斯福路四段1號 社會科學院頤賢館322室'), ('電話', '02-3366-8453'), ('傳真', '02-2365-8416'), ('網站', 'http://pa.ntu.edu.tw/'), ('Email', 'ntupubaff@ntu.edu.tw')])"
            ]
          },
          "metadata": {},
          "execution_count": 35
        }
      ]
    },
    {
      "cell_type": "markdown",
      "source": [
        "取得dict長度"
      ],
      "metadata": {
        "id": "KFuRgc1j6o0E"
      }
    },
    {
      "cell_type": "code",
      "source": [
        "len(ntu_gipa)"
      ],
      "metadata": {
        "colab": {
          "base_uri": "https://localhost:8080/"
        },
        "id": "7HQeDX7a6JzJ",
        "outputId": "ef81587a-e608-46a8-a18c-c23f491e0461"
      },
      "execution_count": 36,
      "outputs": [
        {
          "output_type": "execute_result",
          "data": {
            "text/plain": [
              "6"
            ]
          },
          "metadata": {},
          "execution_count": 36
        }
      ]
    },
    {
      "cell_type": "markdown",
      "source": [
        "檢查key是否存在"
      ],
      "metadata": {
        "id": "zIFR6jVm6b_O"
      }
    },
    {
      "cell_type": "code",
      "source": [
        "'教授' in ntu_gipa"
      ],
      "metadata": {
        "colab": {
          "base_uri": "https://localhost:8080/"
        },
        "id": "uRxXEClh6L8-",
        "outputId": "4482e042-5ca0-4036-ac84-b3ec9be7741e"
      },
      "execution_count": 38,
      "outputs": [
        {
          "output_type": "execute_result",
          "data": {
            "text/plain": [
              "True"
            ]
          },
          "metadata": {},
          "execution_count": 38
        }
      ]
    },
    {
      "cell_type": "markdown",
      "source": [
        "用{**a, **b}結合dict"
      ],
      "metadata": {
        "id": "xCuaSGOd6Z2h"
      }
    },
    {
      "cell_type": "code",
      "source": [
        "dict_1 = {'a': 'apple', 'b': 'beach', 'c': 'cat'}\n",
        "dict_2 = {'d': 'dog', 'e': 'egg', 'f': 'flower'}\n",
        "\n",
        "dict_all = {**dict_1, **dict_2}\n",
        "print(dict_all)"
      ],
      "metadata": {
        "id": "pOAOSWH66MCh"
      },
      "execution_count": null,
      "outputs": []
    },
    {
      "cell_type": "markdown",
      "source": [
        "# **Pandas**"
      ],
      "metadata": {
        "id": "u6AaJWC_7wFy"
      }
    },
    {
      "cell_type": "markdown",
      "source": [
        "pandas 是使用Python進行資料分析，或是快速進行一些資料處理時必用的套件。\n",
        "\n",
        "在小型專案中，可能也適合使用pandas來建立資料流程的管線。"
      ],
      "metadata": {
        "id": "KPpRxnAV8Oo-"
      }
    },
    {
      "cell_type": "markdown",
      "source": [
        "可以用pip install 去下載pandas 或是任何其他python套件(colab的話pip前面要加驚嘆號)"
      ],
      "metadata": {
        "id": "FdukGYsg8fwJ"
      }
    },
    {
      "cell_type": "code",
      "source": [
        "!pip install pandas"
      ],
      "metadata": {
        "id": "7QGLW7kf8ciS"
      },
      "execution_count": null,
      "outputs": []
    },
    {
      "cell_type": "markdown",
      "source": [
        "把pandas套件import進來"
      ],
      "metadata": {
        "id": "ATerZCPo898W"
      }
    },
    {
      "cell_type": "code",
      "source": [
        "import pandas as pd"
      ],
      "metadata": {
        "id": "A0YkNTqz82cW"
      },
      "execution_count": null,
      "outputs": []
    },
    {
      "cell_type": "markdown",
      "source": [
        "DataFrame是pandas讀取資料表後的形式，跟excel資料表非常相似。我們先來定義一個data frame"
      ],
      "metadata": {
        "id": "wfYkKe5-9Md4"
      }
    },
    {
      "cell_type": "code",
      "source": [
        "df = pd.DataFrame(\n",
        "    {\n",
        "        \"col_1\": [1, 2, 3, 4, 5, 6, 7, 8, 9, 10],\n",
        "        \"col_2\": [i/10 for i in range(1,11)],\n",
        "        \"col_3\": ['a', 'i', 'u', 'e', 'o', 'a', 'e', 'i', 'o', 'u'],\n",
        "        \"col_4\": pd.Timestamp(\"20240101\"),\n",
        "        \"col_5\": [True, False] * 5,\n",
        "        \"col_6\": pd.Categorical([\"low\"] * 5 + [\"high\"] * 5)\n",
        "    }\n",
        ")"
      ],
      "metadata": {
        "id": "yEnVvW_Q9JbJ"
      },
      "execution_count": null,
      "outputs": []
    },
    {
      "cell_type": "code",
      "source": [
        "df"
      ],
      "metadata": {
        "id": "-lnnysBw9S1f"
      },
      "execution_count": null,
      "outputs": []
    },
    {
      "cell_type": "markdown",
      "source": [
        "或是如果你有很多dict的時候，也可以把他們用[]包起來變成list-of-dict(十分類似json檔)，然後變成data frame。"
      ],
      "metadata": {
        "id": "9BekDF9r9UzO"
      }
    },
    {
      "cell_type": "code",
      "source": [
        "chen = {\n",
        "    '姓名': '陳淳文',\n",
        "    '職稱': '教授',\n",
        "    '辦公室': '862',\n",
        "    '最高學歷的國家': 'FR',\n",
        "    '研究領域': ['公法學', '法國公法', '歐盟法']\n",
        "}\n",
        "\n",
        "wung = {\n",
        "    '姓名': '王宏文',\n",
        "    '職稱': '教授',\n",
        "    '辦公室': '746',\n",
        "    '最高學歷的國家': 'US',\n",
        "    '研究領域': ['公共政策分析', '公共財務管理', '公共管理']\n",
        "}\n",
        "\n",
        "liu = {\n",
        "    '姓名': '劉康慧',\n",
        "    '職稱': '教授',\n",
        "    '辦公室': '810',\n",
        "    '最高學歷的國家': 'US',\n",
        "    '研究領域': ['公共政策', '公共管理', '非營利組織管理', '政府眾包']\n",
        "}\n",
        "\n",
        "sun = {\n",
        "    '姓名': '孫煒',\n",
        "    '職稱': '教授',\n",
        "    '辦公室': '704',\n",
        "    '最高學歷的國家': 'US',\n",
        "    '研究領域': ['公共行政與管理', '第三部門研究', '族群政策', '地方治理']\n",
        "}\n",
        "\n",
        "kuo_y = {\n",
        "    '姓名': '郭昱瑩',\n",
        "    '職稱': '教授',\n",
        "    '辦公室': '812',\n",
        "    '最高學歷的國家': 'US',\n",
        "    '研究領域': ['公共政策', '政策分析', '成本效益分析']\n",
        "}\n",
        "\n",
        "lin = {\n",
        "    '姓名': '林子倫',\n",
        "    '職稱': '副教授',\n",
        "    '辦公室': '748',\n",
        "    '最高學歷的國家': 'US',\n",
        "    '研究領域': ['國際環境政治', '能源與氣候政策', '審議式民主', '參與式治理', '後實證政策分析']\n",
        "}\n",
        "\n",
        "kuo_n = {\n",
        "    '姓名': '郭乃菱',\n",
        "    '職稱': '副教授',\n",
        "    '辦公室': '823',\n",
        "    '最高學歷的國家': 'US',\n",
        "    '研究領域': ['政府預算', '公共財務理論', '公共課責', '公共管理']\n",
        "}\n",
        "\n",
        "hung = {\n",
        "    '姓名': '洪美仁',\n",
        "    '職稱': '副教授',\n",
        "    '辦公室': '802',\n",
        "    '最高學歷的國家': 'US',\n",
        "    '研究領域': ['官僚行為', '協力治理', '公民參與', '電子化政府']\n",
        "}\n",
        "\n",
        "kuo_m = {\n",
        "    '姓名': '郭銘峰',\n",
        "    '職稱': '副教授',\n",
        "    '辦公室': '726',\n",
        "    '最高學歷的國家': 'TW',\n",
        "    '研究領域': ['地方治理', '公民參與', '廉政與透明治理', '比較行政與政策', '應用計量方法']\n",
        "}\n",
        "\n",
        "wu = {\n",
        "    '姓名': '吳舜文',\n",
        "    '職稱': '助理教授',\n",
        "    '辦公室': '808',\n",
        "    '最高學歷的國家': 'US',\n",
        "    '研究領域': ['方案評估', '政策分析', '健康政策', '環保政策']\n",
        "}\n",
        "\n",
        "huang = {\n",
        "    '姓名': '黃建實',\n",
        "    '職稱': '助理教授',\n",
        "    '辦公室': '',\n",
        "    '最高學歷的國家': 'US',\n",
        "    '研究領域': ['環境政策', '跨域治理', '政策分析', '風險溝通', '量化研究方法']\n",
        "}\n",
        "\n",
        "lee = {\n",
        "    '姓名': '李仲軒',\n",
        "    '職稱': '助理教授',\n",
        "    '辦公室': '707',\n",
        "    '最高學歷的國家': 'UK',\n",
        "    '研究領域': ['憲法學', '行政法', '氣候變遷與環境法', '永續發展法', '科技與法律', '風險治理', '跨國多層次治理', '區域比較法研究']\n",
        "}"
      ],
      "metadata": {
        "id": "OKRnwpGY9oZe"
      },
      "execution_count": null,
      "outputs": []
    },
    {
      "cell_type": "code",
      "source": [
        "prof = [chen, wung, liu, sun, kuo_y, lin, kuo_n, hung, kuo_m, wu, huang, lee]"
      ],
      "metadata": {
        "id": "hzviU4RAEMQU"
      },
      "execution_count": null,
      "outputs": []
    },
    {
      "cell_type": "code",
      "source": [
        "prof"
      ],
      "metadata": {
        "colab": {
          "base_uri": "https://localhost:8080/"
        },
        "id": "_ukN-U3SEl-s",
        "outputId": "74b50ec6-b5ae-460d-972f-872b34f87bd2"
      },
      "execution_count": null,
      "outputs": [
        {
          "output_type": "execute_result",
          "data": {
            "text/plain": [
              "[{'姓名': '陳淳文',\n",
              "  '職稱': '教授',\n",
              "  '辦公室': '862',\n",
              "  '最高學歷的國家': 'FR',\n",
              "  '研究領域': ['公法學', '法國公法', '歐盟法']},\n",
              " {'姓名': '王宏文',\n",
              "  '職稱': '教授',\n",
              "  '辦公室': '746',\n",
              "  '最高學歷的國家': 'US',\n",
              "  '研究領域': ['公共政策分析', '公共財務管理', '公共管理']},\n",
              " {'姓名': '劉康慧',\n",
              "  '職稱': '教授',\n",
              "  '辦公室': '810',\n",
              "  '最高學歷的國家': 'US',\n",
              "  '研究領域': ['公共政策', '公共管理', '非營利組織管理', '政府眾包']},\n",
              " {'姓名': '孫煒',\n",
              "  '職稱': '教授',\n",
              "  '辦公室': '704',\n",
              "  '最高學歷的國家': 'US',\n",
              "  '研究領域': ['公共行政與管理', '第三部門研究', '族群政策', '地方治理']},\n",
              " {'姓名': '郭昱瑩',\n",
              "  '職稱': '教授',\n",
              "  '辦公室': '812',\n",
              "  '最高學歷的國家': 'US',\n",
              "  '研究領域': ['公共政策', '政策分析', '成本效益分析']},\n",
              " {'姓名': '林子倫',\n",
              "  '職稱': '副教授',\n",
              "  '辦公室': '748',\n",
              "  '最高學歷的國家': 'US',\n",
              "  '研究領域': ['國際環境政治', '能源與氣候政策', '審議式民主', '參與式治理', '後實證政策分析']},\n",
              " {'姓名': '郭乃菱',\n",
              "  '職稱': '副教授',\n",
              "  '辦公室': '823',\n",
              "  '最高學歷的國家': 'US',\n",
              "  '研究領域': ['政府預算', '公共財務理論', '公共課責', '公共管理']},\n",
              " {'姓名': '洪美仁',\n",
              "  '職稱': '副教授',\n",
              "  '辦公室': '802',\n",
              "  '最高學歷的國家': 'US',\n",
              "  '研究領域': ['官僚行為', '協力治理', '公民參與', '電子化政府']},\n",
              " {'姓名': '郭銘峰',\n",
              "  '職稱': '副教授',\n",
              "  '辦公室': '726',\n",
              "  '最高學歷的國家': 'TW',\n",
              "  '研究領域': ['地方治理', '公民參與', '廉政與透明治理', '比較行政與政策', '應用計量方法']},\n",
              " {'姓名': '吳舜文',\n",
              "  '職稱': '助理教授',\n",
              "  '辦公室': '808',\n",
              "  '最高學歷的國家': 'US',\n",
              "  '研究領域': ['方案評估', '政策分析', '健康政策', '環保政策']},\n",
              " {'姓名': '黃建實',\n",
              "  '職稱': '助理教授',\n",
              "  '辦公室': '',\n",
              "  '最高學歷的國家': 'US',\n",
              "  '研究領域': ['環境政策', '跨域治理', '政策分析', '風險溝通', '量化研究方法']},\n",
              " {'姓名': '李仲軒',\n",
              "  '職稱': '助理教授',\n",
              "  '辦公室': '707',\n",
              "  '最高學歷的國家': 'UK',\n",
              "  '研究領域': ['憲法學',\n",
              "   '行政法',\n",
              "   '氣候變遷與環境法',\n",
              "   '永續發展法',\n",
              "   '科技與法律',\n",
              "   '風險治理',\n",
              "   '跨國多層次治理',\n",
              "   '區域比較法研究']}]"
            ]
          },
          "metadata": {},
          "execution_count": 37
        }
      ]
    },
    {
      "cell_type": "code",
      "source": [
        "prof = pd.DataFrame(prof)"
      ],
      "metadata": {
        "id": "Ku_Ai8SL9tWp"
      },
      "execution_count": null,
      "outputs": []
    },
    {
      "cell_type": "code",
      "source": [
        "prof.index"
      ],
      "metadata": {
        "id": "L2SoWJ6w9vrD"
      },
      "execution_count": null,
      "outputs": []
    },
    {
      "cell_type": "code",
      "source": [
        "prof['研究領域'][1][1]"
      ],
      "metadata": {
        "colab": {
          "base_uri": "https://localhost:8080/",
          "height": 36
        },
        "id": "iaebO0cvr9vg",
        "outputId": "463039c2-2003-481b-baaa-e4c367dbaef2"
      },
      "execution_count": null,
      "outputs": [
        {
          "output_type": "execute_result",
          "data": {
            "text/plain": [
              "'公共財務管理'"
            ],
            "application/vnd.google.colaboratory.intrinsic+json": {
              "type": "string"
            }
          },
          "metadata": {},
          "execution_count": 66
        }
      ]
    },
    {
      "cell_type": "code",
      "source": [
        "exploded_items = prof['研究領域'].explode()\n",
        "\n",
        "item_counts = exploded_items.value_counts()\n",
        "\n",
        "item_counts"
      ],
      "metadata": {
        "colab": {
          "base_uri": "https://localhost:8080/"
        },
        "id": "BGBqWX66qoM-",
        "outputId": "88392137-36ec-49a2-a7ad-9bbf8ba8bda6"
      },
      "execution_count": null,
      "outputs": [
        {
          "output_type": "execute_result",
          "data": {
            "text/plain": [
              "公共管理        3\n",
              "政策分析        3\n",
              "地方治理        2\n",
              "公共政策        2\n",
              "公民參與        2\n",
              "風險溝通        1\n",
              "廉政與透明治理     1\n",
              "比較行政與政策     1\n",
              "應用計量方法      1\n",
              "方案評估        1\n",
              "健康政策        1\n",
              "環保政策        1\n",
              "環境政策        1\n",
              "跨域治理        1\n",
              "公法學         1\n",
              "量化研究方法      1\n",
              "憲法學         1\n",
              "行政法         1\n",
              "氣候變遷與環境法    1\n",
              "永續發展法       1\n",
              "科技與法律       1\n",
              "風險治理        1\n",
              "跨國多層次治理     1\n",
              "電子化政府       1\n",
              "公共課責        1\n",
              "協力治理        1\n",
              "官僚行為        1\n",
              "歐盟法         1\n",
              "公共政策分析      1\n",
              "公共財務管理      1\n",
              "非營利組織管理     1\n",
              "政府眾包        1\n",
              "公共行政與管理     1\n",
              "第三部門研究      1\n",
              "族群政策        1\n",
              "成本效益分析      1\n",
              "國際環境政治      1\n",
              "能源與氣候政策     1\n",
              "審議式民主       1\n",
              "參與式治理       1\n",
              "後實證政策分析     1\n",
              "政府預算        1\n",
              "公共財務理論      1\n",
              "法國公法        1\n",
              "區域比較法研究     1\n",
              "Name: 研究領域, dtype: int64"
            ]
          },
          "metadata": {},
          "execution_count": 74
        }
      ]
    }
  ]
}